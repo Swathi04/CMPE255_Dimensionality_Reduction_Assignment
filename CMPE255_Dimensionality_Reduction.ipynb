{
  "nbformat": 4,
  "nbformat_minor": 0,
  "metadata": {
    "colab": {
      "name": "CMPE255_Dimensionality_Reduction.ipynb",
      "provenance": [],
      "collapsed_sections": [
        "1-c7yNGOhqHI",
        "CCraTq0evLUv",
        "1S_A9TEidoXC",
        "22kEKDsWLvvI",
        "YUdM4himLzUM",
        "tbpLOhjkL2xs"
      ],
      "authorship_tag": "ABX9TyMjmNEfVN7MVh7EnC9H0dmV",
      "include_colab_link": true
    },
    "kernelspec": {
      "display_name": "Python 3",
      "name": "python3"
    },
    "language_info": {
      "name": "python"
    }
  },
  "cells": [
    {
      "cell_type": "markdown",
      "metadata": {
        "id": "view-in-github",
        "colab_type": "text"
      },
      "source": [
        "<a href=\"https://colab.research.google.com/github/Swathi04/CMPE255_Dimensionality_Reduction_Assignment/blob/main/CMPE255_Dimensionality_Reduction.ipynb\" target=\"_parent\"><img src=\"https://colab.research.google.com/assets/colab-badge.svg\" alt=\"Open In Colab\"/></a>"
      ]
    },
    {
      "cell_type": "markdown",
      "metadata": {
        "id": "sdRRF3LSu-p6"
      },
      "source": [
        "#DATA MINING ASSIGNMENT FOR DIMENSIONALITY REDUCTION"
      ]
    },
    {
      "cell_type": "markdown",
      "metadata": {
        "id": "mtpDqA76vIUg"
      },
      "source": [
        "##TABULAR DATA PCA"
      ]
    },
    {
      "cell_type": "markdown",
      "metadata": {
        "id": "1-c7yNGOhqHI"
      },
      "source": [
        "###Necessary Imports"
      ]
    },
    {
      "cell_type": "code",
      "metadata": {
        "id": "6PfjzNvdhtcd"
      },
      "source": [
        "import numpy as np\n",
        "import pandas as pd\n",
        "import seaborn as sns\n",
        "import matplotlib.pyplot as plt\n",
        "from sklearn.decomposition import PCA\n",
        "from sklearn.preprocessing import StandardScaler"
      ],
      "execution_count": 108,
      "outputs": []
    },
    {
      "cell_type": "markdown",
      "metadata": {
        "id": "CCraTq0evLUv"
      },
      "source": [
        "###Kaggle setup to load dataset"
      ]
    },
    {
      "cell_type": "code",
      "metadata": {
        "id": "g7l6HukbwBW0",
        "colab": {
          "base_uri": "https://localhost:8080/"
        },
        "outputId": "658a4a75-2ead-44bb-a53d-44320082c649"
      },
      "source": [
        "!rm -rf ~/.kaggle\n",
        "!ls"
      ],
      "execution_count": 109,
      "outputs": [
        {
          "output_type": "stream",
          "name": "stdout",
          "text": [
            "sample_data\n"
          ]
        }
      ]
    },
    {
      "cell_type": "code",
      "metadata": {
        "id": "iR3pqU_zvSuv",
        "colab": {
          "resources": {
            "http://localhost:8080/nbextensions/google.colab/files.js": {
              "data": "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",
              "ok": true,
              "headers": [
                [
                  "content-type",
                  "application/javascript"
                ]
              ],
              "status": 200,
              "status_text": ""
            }
          },
          "base_uri": "https://localhost:8080/",
          "height": 0
        },
        "outputId": "cf3de1e3-af73-4790-cf11-43a5002d7883"
      },
      "source": [
        "!pip install kaggle\n",
        "from google.colab import files\n",
        "files.upload()"
      ],
      "execution_count": null,
      "outputs": [
        {
          "output_type": "stream",
          "name": "stdout",
          "text": [
            "Requirement already satisfied: kaggle in /usr/local/lib/python3.7/dist-packages (1.5.12)\n",
            "Requirement already satisfied: six>=1.10 in /usr/local/lib/python3.7/dist-packages (from kaggle) (1.15.0)\n",
            "Requirement already satisfied: requests in /usr/local/lib/python3.7/dist-packages (from kaggle) (2.23.0)\n",
            "Requirement already satisfied: tqdm in /usr/local/lib/python3.7/dist-packages (from kaggle) (4.62.3)\n",
            "Requirement already satisfied: python-slugify in /usr/local/lib/python3.7/dist-packages (from kaggle) (5.0.2)\n",
            "Requirement already satisfied: urllib3 in /usr/local/lib/python3.7/dist-packages (from kaggle) (1.24.3)\n",
            "Requirement already satisfied: python-dateutil in /usr/local/lib/python3.7/dist-packages (from kaggle) (2.8.2)\n",
            "Requirement already satisfied: certifi in /usr/local/lib/python3.7/dist-packages (from kaggle) (2021.10.8)\n",
            "Requirement already satisfied: text-unidecode>=1.3 in /usr/local/lib/python3.7/dist-packages (from python-slugify->kaggle) (1.3)\n",
            "Requirement already satisfied: idna<3,>=2.5 in /usr/local/lib/python3.7/dist-packages (from requests->kaggle) (2.10)\n",
            "Requirement already satisfied: chardet<4,>=3.0.2 in /usr/local/lib/python3.7/dist-packages (from requests->kaggle) (3.0.4)\n"
          ]
        },
        {
          "output_type": "display_data",
          "data": {
            "text/html": [
              "\n",
              "     <input type=\"file\" id=\"files-5ea9dfb3-1872-46f0-a8c3-e630d14c7f05\" name=\"files[]\" multiple disabled\n",
              "        style=\"border:none\" />\n",
              "     <output id=\"result-5ea9dfb3-1872-46f0-a8c3-e630d14c7f05\">\n",
              "      Upload widget is only available when the cell has been executed in the\n",
              "      current browser session. Please rerun this cell to enable.\n",
              "      </output>\n",
              "      <script src=\"/nbextensions/google.colab/files.js\"></script> "
            ],
            "text/plain": [
              "<IPython.core.display.HTML object>"
            ]
          },
          "metadata": {}
        }
      ]
    },
    {
      "cell_type": "code",
      "metadata": {
        "id": "H7QUO_ZeiFLA"
      },
      "source": [
        "!ls"
      ],
      "execution_count": null,
      "outputs": []
    },
    {
      "cell_type": "code",
      "metadata": {
        "id": "R085XX6KzA8l"
      },
      "source": [
        "!mkdir ~/.kaggle\n",
        "!cp kaggle.json ~/.kaggle/\n",
        "!chmod 600 ~/.kaggle/kaggle.json\n"
      ],
      "execution_count": null,
      "outputs": []
    },
    {
      "cell_type": "code",
      "metadata": {
        "id": "T1PKNDHhgkYr"
      },
      "source": [
        "!kaggle datasets download sadeghjalalian/wine-customer-segmentation"
      ],
      "execution_count": null,
      "outputs": []
    },
    {
      "cell_type": "code",
      "metadata": {
        "id": "Rz1_Gblqz3Bz"
      },
      "source": [
        "!ls\n",
        "!unzip wine-customer-segmentation.zip"
      ],
      "execution_count": null,
      "outputs": []
    },
    {
      "cell_type": "markdown",
      "metadata": {
        "id": "1S_A9TEidoXC"
      },
      "source": [
        "###Load dataset"
      ]
    },
    {
      "cell_type": "code",
      "metadata": {
        "id": "o808iU1XdtDQ"
      },
      "source": [
        "data_frame = pd.read_csv('Wine.csv')\n",
        "data_frame.head()"
      ],
      "execution_count": null,
      "outputs": []
    },
    {
      "cell_type": "code",
      "metadata": {
        "id": "WXjU-jkO7PsB"
      },
      "source": [
        "data_frame.describe()"
      ],
      "execution_count": null,
      "outputs": []
    },
    {
      "cell_type": "code",
      "metadata": {
        "id": "NiCusMtV7ryx"
      },
      "source": [
        "data_frame.shape"
      ],
      "execution_count": null,
      "outputs": []
    },
    {
      "cell_type": "code",
      "metadata": {
        "id": "hX0nrF8j72lH"
      },
      "source": [
        "X_variables = data_frame.iloc[:,0:4]\n",
        "X_variables"
      ],
      "execution_count": null,
      "outputs": []
    },
    {
      "cell_type": "code",
      "metadata": {
        "id": "gM37LOf98e3T"
      },
      "source": [
        "y_variable = data_frame.iloc[:,5]\n",
        "y_variable"
      ],
      "execution_count": null,
      "outputs": []
    },
    {
      "cell_type": "markdown",
      "metadata": {
        "id": "22kEKDsWLvvI"
      },
      "source": [
        "###Calculate the covariance matrix"
      ]
    },
    {
      "cell_type": "code",
      "metadata": {
        "id": "OePslh7E8yGR"
      },
      "source": [
        "sc = StandardScaler()\n",
        "transformed_df = sc.fit_transform(X_variables)\n",
        "covariance_matrix = np.cov(transformed_df.T)\n",
        "covariance_matrix"
      ],
      "execution_count": null,
      "outputs": []
    },
    {
      "cell_type": "markdown",
      "metadata": {
        "id": "YUdM4himLzUM"
      },
      "source": [
        "###Calculate eigen values"
      ]
    },
    {
      "cell_type": "code",
      "metadata": {
        "id": "DKT4OZe785VJ"
      },
      "source": [
        "eigen_values, eigen_vectors = np.linalg.eig(covariance_matrix)"
      ],
      "execution_count": null,
      "outputs": []
    },
    {
      "cell_type": "markdown",
      "metadata": {
        "id": "tbpLOhjkL2xs"
      },
      "source": [
        "###Calculate Eigen pairs"
      ]
    },
    {
      "cell_type": "code",
      "metadata": {
        "id": "bOYX24BR893s"
      },
      "source": [
        "eigen_pairs = [(np.abs(eigen_values[i]), eigen_vectors[:,i]) for i in range(len(eigen_values))]\n",
        "print('Eigenvalues arranged in descending order:')\n",
        "for i in eigen_pairs:\n",
        "    print(i[0])"
      ],
      "execution_count": null,
      "outputs": []
    },
    {
      "cell_type": "markdown",
      "metadata": {
        "id": "gUn83zNpMAqL"
      },
      "source": [
        "###PCA"
      ]
    },
    {
      "cell_type": "code",
      "metadata": {
        "id": "s93ehMNgJD2L"
      },
      "source": [
        "pca = PCA()\n",
        "pca = pca.fit(transformed_df)\n",
        "explained_variance = pca.explained_variance_ratio_\n",
        "explained_variance"
      ],
      "execution_count": null,
      "outputs": []
    },
    {
      "cell_type": "code",
      "metadata": {
        "id": "2dhCII28JI0F"
      },
      "source": [
        "dataframe = pd.DataFrame({'variance':pca.explained_variance_ratio_,\n",
        "             'Principal Component':['PC1','PC2','PC3','PC4']})\n",
        "sns.barplot(x='Principal Component',y=\"variance\", \n",
        "           data=dataframe, color=\"b\");"
      ],
      "execution_count": null,
      "outputs": []
    },
    {
      "cell_type": "code",
      "metadata": {
        "id": "fnvR_ih6JUkU"
      },
      "source": [
        "plt.plot(np.cumsum(pca.explained_variance_ratio_))\n",
        "plt.xlabel('Number of principal components')\n",
        "plt.ylabel('Cumulative explained variance')\n",
        "plt.show()"
      ],
      "execution_count": null,
      "outputs": []
    },
    {
      "cell_type": "code",
      "metadata": {
        "id": "MGcDe-H3JZIK"
      },
      "source": [
        "pca_2 = PCA(n_components =2 )\n",
        "pca_2 = pca_2.fit(transformed_df)\n",
        "pca_2d = pca_2.transform(X_variables)"
      ],
      "execution_count": null,
      "outputs": []
    },
    {
      "cell_type": "code",
      "metadata": {
        "id": "oWv7pBbiJdOw"
      },
      "source": [
        "data_frame['Customer_Segment'] = data_frame['Customer_Segment'].replace({1:0, 2:1, 3:2})"
      ],
      "execution_count": null,
      "outputs": []
    },
    {
      "cell_type": "code",
      "metadata": {
        "id": "AClmCXEqK3gA"
      },
      "source": [
        "plt.figure(figsize=(8,6))\n",
        "plt.scatter(pca_2d[:,0], pca_2d[:,1],c=data_frame['Customer_Segment'])\n",
        "plt.show()\n"
      ],
      "execution_count": null,
      "outputs": []
    },
    {
      "cell_type": "markdown",
      "metadata": {
        "id": "oUYgKwPSMHK1"
      },
      "source": [
        "##TABULAR DATA SVD"
      ]
    },
    {
      "cell_type": "markdown",
      "metadata": {
        "id": "YJz1MdMVOBcQ"
      },
      "source": [
        "###Necessary Imports"
      ]
    },
    {
      "cell_type": "code",
      "metadata": {
        "id": "J20VRFCgODaQ"
      },
      "source": [
        "import numpy as np\n",
        "import pandas as pd\n",
        "import seaborn as sns\n",
        "import matplotlib.pyplot as plt\n",
        "from sklearn.preprocessing import LabelEncoder, StandardScaler"
      ],
      "execution_count": null,
      "outputs": []
    },
    {
      "cell_type": "markdown",
      "metadata": {
        "id": "CEbi2MXjOIFA"
      },
      "source": [
        "###Load Dataset"
      ]
    },
    {
      "cell_type": "code",
      "metadata": {
        "id": "LEUv3u9yOJx4"
      },
      "source": [
        "data_frame = pd.read_csv('Wine.csv')\n",
        "data_frame.head()"
      ],
      "execution_count": null,
      "outputs": []
    },
    {
      "cell_type": "code",
      "metadata": {
        "id": "SYoAghQOOQpE"
      },
      "source": [
        "data_frame.shape"
      ],
      "execution_count": null,
      "outputs": []
    },
    {
      "cell_type": "code",
      "metadata": {
        "id": "keIw2AT8Ofuu"
      },
      "source": [
        "encoder = LabelEncoder()\n",
        "for col in data_frame.columns:\n",
        "    data_frame[col] = encoder.fit_transform(data_frame[col])\n",
        "data_frame.head()"
      ],
      "execution_count": null,
      "outputs": []
    },
    {
      "cell_type": "code",
      "metadata": {
        "id": "3eh4zINGO4dk"
      },
      "source": [
        "X_variables = data_frame.iloc[:,1:23]\n",
        "y_label = data_frame.iloc[:, 0]"
      ],
      "execution_count": null,
      "outputs": []
    },
    {
      "cell_type": "code",
      "metadata": {
        "id": "RL6QlFu1O5L9"
      },
      "source": [
        "scaler = StandardScaler()\n",
        "X_features = scaler.fit_transform(X_variables)"
      ],
      "execution_count": null,
      "outputs": []
    },
    {
      "cell_type": "code",
      "metadata": {
        "id": "hOyPMGiQO8ni"
      },
      "source": [
        "u, s, v = np.linalg.svd(X_features, full_matrices=True)"
      ],
      "execution_count": null,
      "outputs": []
    },
    {
      "cell_type": "code",
      "metadata": {
        "id": "YFvStVJ1O9Ud"
      },
      "source": [
        "u.shape"
      ],
      "execution_count": null,
      "outputs": []
    },
    {
      "cell_type": "code",
      "metadata": {
        "id": "oM-n3PuzO_1b"
      },
      "source": [
        "s.shape"
      ],
      "execution_count": null,
      "outputs": []
    },
    {
      "cell_type": "code",
      "metadata": {
        "id": "LSNST4z2PBiR"
      },
      "source": [
        "v.shape"
      ],
      "execution_count": null,
      "outputs": []
    },
    {
      "cell_type": "code",
      "metadata": {
        "id": "ToiUJL86PRve"
      },
      "source": [
        "variance_explained = np.round(s**2/np.sum(s**2), decimals=3)\n",
        "variance_explained\n",
        " \n",
        "sns.barplot(x=list(range(1,len(variance_explained)+1)),\n",
        "            y=variance_explained, color=\"blue\")\n",
        "plt.xlabel('SVs', fontsize=16)\n",
        "plt.ylabel('Percent of the variance explained', fontsize=15)"
      ],
      "execution_count": null,
      "outputs": []
    },
    {
      "cell_type": "code",
      "metadata": {
        "id": "XBbmfOTnPkSZ"
      },
      "source": [
        "col_labels= ['SV'+str(i) for i in range(1,4)]\n",
        "svd_df = pd.DataFrame(u[:,0:3], index=data_frame[\"Customer_Segment\"].tolist(), columns=col_labels)\n",
        "svd_df=svd_df.reset_index()\n",
        "svd_df.rename(columns={'index':'Class'}, inplace=True)\n",
        "svd_df.head()"
      ],
      "execution_count": null,
      "outputs": []
    },
    {
      "cell_type": "code",
      "metadata": {
        "id": "t6EK-x4-P-tS"
      },
      "source": [
        "svd_df['Class'] = svd_df['Class'].replace({0:'SV1', 1:'SV2', 2:'SV3'})"
      ],
      "execution_count": null,
      "outputs": []
    },
    {
      "cell_type": "code",
      "metadata": {
        "id": "hPIo9REGQSKv"
      },
      "source": [
        "sns.scatterplot(x=\"SV1\", y=\"SV2\", hue=\"Class\", data=svd_df, s=105,alpha=0.5)\n",
        "plt.xlabel('SV 1: {0}%'.format(variance_explained[0]*100), fontsize=15)\n",
        "plt.ylabel('SV 2: {0}%'.format(variance_explained[1]*100), fontsize=15)"
      ],
      "execution_count": null,
      "outputs": []
    },
    {
      "cell_type": "markdown",
      "metadata": {
        "id": "Z5yfhJfkLzMG"
      },
      "source": [
        "##TABULAR DATA LLE"
      ]
    },
    {
      "cell_type": "markdown",
      "metadata": {
        "id": "C8XQ58E9RZDk"
      },
      "source": [
        "###Necessary Import"
      ]
    },
    {
      "cell_type": "code",
      "metadata": {
        "id": "UpkgCxwWL9T6"
      },
      "source": [
        "from sklearn.manifold import LocallyLinearEmbedding"
      ],
      "execution_count": null,
      "outputs": []
    },
    {
      "cell_type": "markdown",
      "metadata": {
        "id": "FrSKGZv2Ra3y"
      },
      "source": [
        "###Check the dimensions"
      ]
    },
    {
      "cell_type": "code",
      "metadata": {
        "id": "x1oSPoiZQPAz"
      },
      "source": [
        "data_frame.shape"
      ],
      "execution_count": null,
      "outputs": []
    },
    {
      "cell_type": "markdown",
      "metadata": {
        "id": "hkJzpXuwRqVJ"
      },
      "source": [
        "###Specify how much dimensions needs to be reduced"
      ]
    },
    {
      "cell_type": "code",
      "metadata": {
        "id": "OJaL4kWfQ69f"
      },
      "source": [
        "embedding = LocallyLinearEmbedding(n_components=2).fit(data_frame)"
      ],
      "execution_count": null,
      "outputs": []
    },
    {
      "cell_type": "code",
      "metadata": {
        "id": "vjHaQx7URA93"
      },
      "source": [
        "embedding"
      ],
      "execution_count": null,
      "outputs": []
    },
    {
      "cell_type": "markdown",
      "metadata": {
        "id": "c35Bssn_RvwY"
      },
      "source": [
        "###Transform the data frame to the given number of dimensions"
      ]
    },
    {
      "cell_type": "code",
      "metadata": {
        "id": "p2uGKPvvRE38"
      },
      "source": [
        "lle = embedding.fit_transform(data_frame)"
      ],
      "execution_count": null,
      "outputs": []
    },
    {
      "cell_type": "markdown",
      "metadata": {
        "id": "knLOhmMXWikH"
      },
      "source": [
        "###Checking the new dimensions"
      ]
    },
    {
      "cell_type": "code",
      "metadata": {
        "id": "HR7K7gE-T4Hq"
      },
      "source": [
        "lle.shape"
      ],
      "execution_count": null,
      "outputs": []
    },
    {
      "cell_type": "markdown",
      "metadata": {
        "id": "UsNgng_-R4pD"
      },
      "source": [
        "###Visualisation of data"
      ]
    },
    {
      "cell_type": "code",
      "metadata": {
        "id": "_2ENaituRJH1"
      },
      "source": [
        "plt.figure(figsize=(10,10))\n",
        "vis_x = lle[:, 0]\n",
        "vis_y = lle[:, 1]\n",
        "plt.scatter(vis_x, vis_y, c=data_frame['Customer_Segment'], cmap=plt.cm.get_cmap(\"jet\", 10), marker='.')\n",
        "plt.colorbar(ticks=range(10))\n",
        "plt.clim(-0.5, 9.5)\n",
        "plt.show()"
      ],
      "execution_count": null,
      "outputs": []
    },
    {
      "cell_type": "markdown",
      "metadata": {
        "id": "izCtLCZDSBAa"
      },
      "source": [
        "##TABULAR DATA T-SNE"
      ]
    },
    {
      "cell_type": "markdown",
      "metadata": {
        "id": "EbKfwkQaUmAM"
      },
      "source": [
        "###Necessary Imports"
      ]
    },
    {
      "cell_type": "code",
      "metadata": {
        "id": "NYeBDQCrTBxL"
      },
      "source": [
        "from sklearn.manifold import TSNE"
      ],
      "execution_count": null,
      "outputs": []
    },
    {
      "cell_type": "markdown",
      "metadata": {
        "id": "kUrg9P4TUoa8"
      },
      "source": [
        "###Checking the dimensions of original data"
      ]
    },
    {
      "cell_type": "code",
      "metadata": {
        "id": "Fzkj7kE4TIre"
      },
      "source": [
        "data_frame.shape"
      ],
      "execution_count": null,
      "outputs": []
    },
    {
      "cell_type": "markdown",
      "metadata": {
        "id": "rW91SvBvVjbm"
      },
      "source": [
        "###Specifying the dimensions to which it needs to be reduced"
      ]
    },
    {
      "cell_type": "code",
      "metadata": {
        "id": "-vRuqmBiTu6X"
      },
      "source": [
        "model=TSNE(n_components=2)"
      ],
      "execution_count": null,
      "outputs": []
    },
    {
      "cell_type": "markdown",
      "metadata": {
        "id": "VFUwdZ6YV8FT"
      },
      "source": [
        "###Transform the data to the reduced number of dimensions"
      ]
    },
    {
      "cell_type": "code",
      "metadata": {
        "id": "CZITk3jSTxYV"
      },
      "source": [
        "tsne_data=model.fit_transform(data_frame)"
      ],
      "execution_count": null,
      "outputs": []
    },
    {
      "cell_type": "markdown",
      "metadata": {
        "id": "-0E9ML5lWDx0"
      },
      "source": [
        "###Check the new dimensions"
      ]
    },
    {
      "cell_type": "code",
      "metadata": {
        "id": "DJ8RKcd6T0vo"
      },
      "source": [
        "tsne_data.shape"
      ],
      "execution_count": null,
      "outputs": []
    },
    {
      "cell_type": "markdown",
      "metadata": {
        "id": "kbk4II4TWF-V"
      },
      "source": [
        "###The parameter “perplexity,” which says (loosely) how to balance attention between local and global aspects of your data. The parameter is, in a sense, a guess about the number of close neighbors each point has. \n",
        "###Perplexity 100"
      ]
    },
    {
      "cell_type": "code",
      "metadata": {
        "id": "kAJuS3fRU4Ko"
      },
      "source": [
        "model=TSNE(perplexity=100)\n",
        "tsne_data=model.fit_transform(data_frame)"
      ],
      "execution_count": null,
      "outputs": []
    },
    {
      "cell_type": "code",
      "metadata": {
        "id": "3FIsojHxT751"
      },
      "source": [
        "fig, ax = plt.subplots()\n",
        "scatter = ax.scatter(tsne_data[:,0],tsne_data[:,1], c=data_frame['Customer_Segment'])\n",
        "legend1 = ax.legend(*scatter.legend_elements(), loc=\"upper right\", title=\"Customer Segment\")\n",
        "ax.add_artist(legend1)"
      ],
      "execution_count": null,
      "outputs": []
    },
    {
      "cell_type": "markdown",
      "metadata": {
        "id": "sAqgZK_SWaw1"
      },
      "source": [
        "###Perplexity 200"
      ]
    },
    {
      "cell_type": "code",
      "metadata": {
        "id": "WSfoMl_8VNmK"
      },
      "source": [
        "model=TSNE(perplexity=200)\n",
        "tsne_data=model.fit_transform(data_frame)"
      ],
      "execution_count": null,
      "outputs": []
    },
    {
      "cell_type": "code",
      "metadata": {
        "id": "K5OYJLPKVQjQ"
      },
      "source": [
        "fig, ax = plt.subplots()\n",
        "scatter = ax.scatter(tsne_data[:,0],tsne_data[:,1], c=data_frame['Customer_Segment'])\n",
        "legend1 = ax.legend(*scatter.legend_elements(), loc=\"upper right\", title=\"Customer Segment\")\n",
        "ax.add_artist(legend1)"
      ],
      "execution_count": null,
      "outputs": []
    },
    {
      "cell_type": "markdown",
      "metadata": {
        "id": "r4XXt17KWdFC"
      },
      "source": [
        "###Perplexity 10000"
      ]
    },
    {
      "cell_type": "code",
      "metadata": {
        "id": "1j_Mbm3sVUW7"
      },
      "source": [
        "model=TSNE(perplexity=10000)\n",
        "tsne_data=model.fit_transform(data_frame)"
      ],
      "execution_count": null,
      "outputs": []
    },
    {
      "cell_type": "code",
      "metadata": {
        "id": "90jUOLbdVanf"
      },
      "source": [
        "fig, ax = plt.subplots()\n",
        "scatter = ax.scatter(tsne_data[:,0],tsne_data[:,1], c=data_frame['Customer_Segment'])\n",
        "legend1 = ax.legend(*scatter.legend_elements(), loc=\"upper right\", title=\"Customer Segment\")\n",
        "ax.add_artist(legend1)"
      ],
      "execution_count": null,
      "outputs": []
    },
    {
      "cell_type": "markdown",
      "metadata": {
        "id": "942ON2pQXGvZ"
      },
      "source": [
        "##TABULAR DATA ISOMAP"
      ]
    },
    {
      "cell_type": "markdown",
      "metadata": {
        "id": "pdEeRAFXYxRn"
      },
      "source": [
        "###Necessary Imports"
      ]
    },
    {
      "cell_type": "code",
      "metadata": {
        "id": "2re-sYJUXJX9"
      },
      "source": [
        "from sklearn.manifold import Isomap"
      ],
      "execution_count": null,
      "outputs": []
    },
    {
      "cell_type": "markdown",
      "metadata": {
        "id": "qM6bA6-iY0ga"
      },
      "source": [
        "###Checking the original shape of data frame"
      ]
    },
    {
      "cell_type": "code",
      "metadata": {
        "id": "7-4JGxbaXbFz"
      },
      "source": [
        "data_frame.shape"
      ],
      "execution_count": null,
      "outputs": []
    },
    {
      "cell_type": "markdown",
      "metadata": {
        "id": "xmI62mJCY4rc"
      },
      "source": [
        "###Applying Isomap transformation to the required number of dimensions"
      ]
    },
    {
      "cell_type": "code",
      "metadata": {
        "id": "VtH7mzXNYHRC"
      },
      "source": [
        "model= Isomap(n_components=2).fit_transform(data_frame)"
      ],
      "execution_count": null,
      "outputs": []
    },
    {
      "cell_type": "markdown",
      "metadata": {
        "id": "kuU7QslXZOdL"
      },
      "source": [
        "###Plotting the graph"
      ]
    },
    {
      "cell_type": "code",
      "metadata": {
        "id": "1ezfNsj3YiR9"
      },
      "source": [
        "fig, ax = plt.subplots()\n",
        "scatter = ax.scatter(model[:,0],model[:,1], c=data_frame['Customer_Segment'])\n",
        "legend1 = ax.legend(*scatter.legend_elements(),loc=\"upper left\", title=\"Customer Segment\")\n",
        "ax.add_artist(legend1)"
      ],
      "execution_count": null,
      "outputs": []
    },
    {
      "cell_type": "markdown",
      "metadata": {
        "id": "J6ZOYJbBZYV1"
      },
      "source": [
        "##TABULAR DATA UMAP"
      ]
    },
    {
      "cell_type": "markdown",
      "metadata": {
        "id": "6rUA5vUkqRR5"
      },
      "source": [
        "###Installing necessary libraries"
      ]
    },
    {
      "cell_type": "code",
      "metadata": {
        "id": "59Wz2OHVZacX"
      },
      "source": [
        "!pip install umap-learn[plot]"
      ],
      "execution_count": null,
      "outputs": []
    },
    {
      "cell_type": "markdown",
      "metadata": {
        "id": "CI-sWgcfqvsR"
      },
      "source": [
        "###Necessary Imports"
      ]
    },
    {
      "cell_type": "code",
      "metadata": {
        "id": "ILwN_x5fnmXw"
      },
      "source": [
        "import umap"
      ],
      "execution_count": null,
      "outputs": []
    },
    {
      "cell_type": "markdown",
      "metadata": {
        "id": "MhNg4Gviq2UZ"
      },
      "source": [
        "###Checking the dimensions of the original data frame"
      ]
    },
    {
      "cell_type": "code",
      "metadata": {
        "id": "h2ZyH7l7puym"
      },
      "source": [
        "data_frame.shape"
      ],
      "execution_count": null,
      "outputs": []
    },
    {
      "cell_type": "markdown",
      "metadata": {
        "id": "O8dhZTWLq8sR"
      },
      "source": [
        "###Using UMAP to reduce the number of dimensions"
      ]
    },
    {
      "cell_type": "code",
      "metadata": {
        "id": "ma0nh7DgpqrT"
      },
      "source": [
        "reducer=umap.UMAP()\n",
        "embedding=reducer.fit_transform(data_frame)\n",
        "embedding.shape"
      ],
      "execution_count": null,
      "outputs": []
    },
    {
      "cell_type": "markdown",
      "metadata": {
        "id": "3utrzjzdrA3k"
      },
      "source": [
        "###Plotting the reduced dimensions graph"
      ]
    },
    {
      "cell_type": "code",
      "metadata": {
        "id": "DPL763KtqH1a"
      },
      "source": [
        "plt.scatter(embedding[:,0],embedding[:,1])\n",
        "plt.gca().set_aspect('equal','datalim')\n",
        "plt.title('UMAP PROJECTION OF THE WINE DATA', fontsize=24)"
      ],
      "execution_count": null,
      "outputs": []
    },
    {
      "cell_type": "markdown",
      "metadata": {
        "id": "UfdJH7gvbfDv"
      },
      "source": [
        "##IMAGE DATASET PCA"
      ]
    },
    {
      "cell_type": "markdown",
      "metadata": {
        "id": "VLb0ETa9bfDv"
      },
      "source": [
        "###Necessary Imports"
      ]
    },
    {
      "cell_type": "code",
      "metadata": {
        "id": "jNsAlOwXbfDv"
      },
      "source": [
        "from sklearn.decomposition import PCA\n",
        "from sklearn.preprocessing import StandardScaler"
      ],
      "execution_count": null,
      "outputs": []
    },
    {
      "cell_type": "markdown",
      "metadata": {
        "id": "vYzg_m4zbfDv"
      },
      "source": [
        "###Kaggle setup to load dataset"
      ]
    },
    {
      "cell_type": "code",
      "metadata": {
        "id": "XOhqmOsXbfDw"
      },
      "source": [
        "!kaggle competitions download -c Kannada-MNIST"
      ],
      "execution_count": null,
      "outputs": []
    },
    {
      "cell_type": "code",
      "metadata": {
        "id": "-Up16iU3bfDx"
      },
      "source": [
        "!ls\n",
        "!unzip Dig-MNIST.csv.zip"
      ],
      "execution_count": null,
      "outputs": []
    },
    {
      "cell_type": "markdown",
      "metadata": {
        "id": "mf4ycDHLbfDx"
      },
      "source": [
        "###Load dataset"
      ]
    },
    {
      "cell_type": "code",
      "metadata": {
        "id": "azn_5BVabfDx"
      },
      "source": [
        "data_frame_image = pd.read_csv('Dig-MNIST.csv')\n",
        "data_frame_image.head()"
      ],
      "execution_count": null,
      "outputs": []
    },
    {
      "cell_type": "code",
      "metadata": {
        "id": "wvcZGLS-vQog"
      },
      "source": [
        "data_frame_image.shape"
      ],
      "execution_count": null,
      "outputs": []
    },
    {
      "cell_type": "code",
      "metadata": {
        "id": "iTgtaM6zbfDx"
      },
      "source": [
        "data_frame_image.describe()"
      ],
      "execution_count": null,
      "outputs": []
    },
    {
      "cell_type": "code",
      "metadata": {
        "id": "LHkDXISybfDx"
      },
      "source": [
        "pca = PCA(2)\n",
        "projected_value = pca.fit_transform(data_frame_image)\n",
        "projected = pca.inverse_transform(projected_value)\n",
        "print(data_frame_image.shape)\n",
        "print(projected_value.shape)"
      ],
      "execution_count": null,
      "outputs": []
    },
    {
      "cell_type": "code",
      "metadata": {
        "id": "qZMA1NDcvTHF"
      },
      "source": [
        "image_vec = data_frame_image.drop('label',axis=1)\n",
        "plt.figure(figsize=(14,14))\n",
        "for digit_num in range(0,10):\n",
        "    plt.subplot(1,10,digit_num+1)\n",
        "    grid_data = image_vec.iloc[digit_num].to_numpy().reshape(28,28)\n",
        "    plt.imshow(grid_data, interpolation = \"none\", cmap = \"gray\")\n",
        "    plt.xticks([])\n",
        "    plt.yticks([])\n",
        "plt.show()"
      ],
      "execution_count": null,
      "outputs": []
    },
    {
      "cell_type": "code",
      "metadata": {
        "id": "QfB6tjTqLANM"
      },
      "source": [
        "pca = PCA().fit(data_frame_image)\n",
        "plt.plot(np.cumsum(pca.explained_variance_ratio_))\n",
        "plt.xlabel('Number of Components')\n",
        "plt.ylabel('Cumulative Explained Variance')"
      ],
      "execution_count": null,
      "outputs": []
    },
    {
      "cell_type": "code",
      "metadata": {
        "id": "d-r0_DUgQkcE"
      },
      "source": [
        "plt.scatter(projected_value[:, 0], projected_value[:, 1], c=data_frame_image['label'],edgecolors='none',alpha=0.5, cmap=plt.cm.get_cmap('Accent', 10))\n",
        "plt.xlabel('Component 1')\n",
        "plt.ylabel('Component 2')\n",
        "plt.colorbar()"
      ],
      "execution_count": null,
      "outputs": []
    },
    {
      "cell_type": "markdown",
      "metadata": {
        "id": "E04yA7cPQWn0"
      },
      "source": [
        "##IMAGE DATASET SVD"
      ]
    },
    {
      "cell_type": "markdown",
      "metadata": {
        "id": "3Ui6QfMwQh8n"
      },
      "source": [
        "###Necessary Imports"
      ]
    },
    {
      "cell_type": "code",
      "metadata": {
        "id": "kBrICTkeQh8n"
      },
      "source": [
        "import numpy as np\n",
        "import pandas as pd\n",
        "import seaborn as sns\n",
        "import matplotlib.pyplot as plt\n",
        "from sklearn.preprocessing import LabelEncoder, StandardScaler"
      ],
      "execution_count": null,
      "outputs": []
    },
    {
      "cell_type": "markdown",
      "metadata": {
        "id": "UUD1toR3Qh8n"
      },
      "source": [
        "###Load Dataset"
      ]
    },
    {
      "cell_type": "code",
      "metadata": {
        "id": "NX87GTCgQh8n"
      },
      "source": [
        "data_frame_image = pd.read_csv('Dig-MNIST.csv')\n",
        "data_frame_image.head()"
      ],
      "execution_count": null,
      "outputs": []
    },
    {
      "cell_type": "code",
      "metadata": {
        "id": "4hIHGfZ7Qh8n"
      },
      "source": [
        "data_frame_image.shape"
      ],
      "execution_count": null,
      "outputs": []
    },
    {
      "cell_type": "code",
      "metadata": {
        "id": "x_bYJmvxQh8n"
      },
      "source": [
        "encoder = LabelEncoder()\n",
        "for col in data_frame_image.columns:\n",
        "    data_frame_image[col] = encoder.fit_transform(data_frame_image[col])\n",
        "data_frame_image.head()"
      ],
      "execution_count": null,
      "outputs": []
    },
    {
      "cell_type": "code",
      "metadata": {
        "id": "IK3X0cVtQh8n"
      },
      "source": [
        "X_variables = data_frame_image.iloc[:,1:23]\n",
        "y_label = data_frame_image.iloc[:, 0]"
      ],
      "execution_count": null,
      "outputs": []
    },
    {
      "cell_type": "code",
      "metadata": {
        "id": "o87CgymVQh8n"
      },
      "source": [
        "scaler = StandardScaler()\n",
        "X_features = scaler.fit_transform(X_variables)"
      ],
      "execution_count": null,
      "outputs": []
    },
    {
      "cell_type": "code",
      "metadata": {
        "id": "yE81xLDyQh8n"
      },
      "source": [
        "u, s, v = np.linalg.svd(X_features, full_matrices=True)"
      ],
      "execution_count": null,
      "outputs": []
    },
    {
      "cell_type": "code",
      "metadata": {
        "id": "_PV7HTUCQh8o"
      },
      "source": [
        "u.shape"
      ],
      "execution_count": null,
      "outputs": []
    },
    {
      "cell_type": "code",
      "metadata": {
        "id": "chQoB8EAQh8o"
      },
      "source": [
        "s.shape"
      ],
      "execution_count": null,
      "outputs": []
    },
    {
      "cell_type": "code",
      "metadata": {
        "id": "RNK_BqEVQh8o"
      },
      "source": [
        "v.shape"
      ],
      "execution_count": null,
      "outputs": []
    },
    {
      "cell_type": "code",
      "metadata": {
        "id": "x9AqEbEfQh8o"
      },
      "source": [
        "variance_explained = np.round(s**2/np.sum(s**2), decimals=3)\n",
        "variance_explained\n",
        " \n",
        "sns.barplot(x=list(range(1,len(variance_explained)+1)),\n",
        "            y=variance_explained, color=\"blue\")\n",
        "plt.xlabel('SVs', fontsize=16)\n",
        "plt.ylabel('Percent of the variance explained', fontsize=15)"
      ],
      "execution_count": null,
      "outputs": []
    },
    {
      "cell_type": "code",
      "metadata": {
        "id": "98sh52R7Qh8o"
      },
      "source": [
        "col_labels= ['SV'+str(i) for i in range(1,11)]\n",
        "svd_df = pd.DataFrame(u[:,0:10], index=data_frame_image['label'].tolist(), columns=col_labels)\n",
        "svd_df=svd_df.reset_index()\n",
        "svd_df.rename(columns={'index':'Class'}, inplace=True)\n",
        "svd_df.head()"
      ],
      "execution_count": null,
      "outputs": []
    },
    {
      "cell_type": "code",
      "metadata": {
        "id": "BKzW1FAFQh8o"
      },
      "source": [
        "svd_df['Class'] = svd_df['Class'].replace({0:'SV1', 1:'SV2', 2:'SV3', 3: 'SV4', 4: 'SV5', 5: 'SV6', 6: 'SV7', 7: 'SV8', 8: 'SV9', 9: 'SV10'})"
      ],
      "execution_count": null,
      "outputs": []
    },
    {
      "cell_type": "code",
      "metadata": {
        "id": "4y7NaTA3Qh8o"
      },
      "source": [
        "sns.scatterplot(x=\"SV1\", y=\"SV2\", hue=\"Class\", data=svd_df, s=105,alpha=0.5)\n",
        "plt.xlabel('SV 1: {0}%'.format(variance_explained[0]*100), fontsize=15)\n",
        "plt.ylabel('SV 2: {0}%'.format(variance_explained[1]*100), fontsize=15)"
      ],
      "execution_count": null,
      "outputs": []
    },
    {
      "cell_type": "markdown",
      "metadata": {
        "id": "UAEjucvQVpis"
      },
      "source": [
        "##IMAGE DATASET LLE"
      ]
    },
    {
      "cell_type": "markdown",
      "metadata": {
        "id": "WDN65ynHVpit"
      },
      "source": [
        "###Necessary Import"
      ]
    },
    {
      "cell_type": "code",
      "metadata": {
        "id": "Z7hPMcEAVpit"
      },
      "source": [
        "from sklearn.manifold import LocallyLinearEmbedding"
      ],
      "execution_count": null,
      "outputs": []
    },
    {
      "cell_type": "markdown",
      "metadata": {
        "id": "1RJ_hOHcVpit"
      },
      "source": [
        "###Check the dimensions"
      ]
    },
    {
      "cell_type": "code",
      "metadata": {
        "id": "QcnDSaxaVpit"
      },
      "source": [
        "data_frame_image.shape"
      ],
      "execution_count": null,
      "outputs": []
    },
    {
      "cell_type": "markdown",
      "metadata": {
        "id": "gMhrUj5AVpit"
      },
      "source": [
        "###Specify how much dimensions needs to be reduced"
      ]
    },
    {
      "cell_type": "code",
      "metadata": {
        "id": "KB7Zkb4sVpit"
      },
      "source": [
        "embedding = LocallyLinearEmbedding(n_components=2).fit(data_frame_image)"
      ],
      "execution_count": null,
      "outputs": []
    },
    {
      "cell_type": "code",
      "metadata": {
        "id": "UTBSSgtaVpit"
      },
      "source": [
        "embedding"
      ],
      "execution_count": null,
      "outputs": []
    },
    {
      "cell_type": "markdown",
      "metadata": {
        "id": "sLD98AboVpiu"
      },
      "source": [
        "###Transform the data frame to the given number of dimensions"
      ]
    },
    {
      "cell_type": "code",
      "metadata": {
        "id": "uiP5CJ7GVpiu"
      },
      "source": [
        "lle = embedding.fit_transform(data_frame_image)"
      ],
      "execution_count": null,
      "outputs": []
    },
    {
      "cell_type": "markdown",
      "metadata": {
        "id": "wegLOdgWVpiu"
      },
      "source": [
        "###Checking the new dimensions"
      ]
    },
    {
      "cell_type": "code",
      "metadata": {
        "id": "RIK0Bv9bVpiu"
      },
      "source": [
        "lle.shape"
      ],
      "execution_count": null,
      "outputs": []
    },
    {
      "cell_type": "markdown",
      "metadata": {
        "id": "3wzOVjGiVpiu"
      },
      "source": [
        "###Visualisation of data"
      ]
    },
    {
      "cell_type": "code",
      "metadata": {
        "id": "gM7XDbnnVpiu"
      },
      "source": [
        "plt.figure(figsize=(10,10))\n",
        "vis_x = lle[:, 0]\n",
        "vis_y = lle[:, 1]\n",
        "plt.scatter(vis_x, vis_y, c=data_frame_image['label'], cmap=plt.cm.get_cmap(\"jet\", 10), marker='.')\n",
        "plt.colorbar(ticks=range(10))\n",
        "plt.clim(-0.5, 9.5)\n",
        "plt.show()"
      ],
      "execution_count": null,
      "outputs": []
    },
    {
      "cell_type": "markdown",
      "metadata": {
        "id": "n2dpggDVcCAd"
      },
      "source": [
        "##IMAGE DATASET T-SNE"
      ]
    },
    {
      "cell_type": "markdown",
      "metadata": {
        "id": "bKvUciFZcCAd"
      },
      "source": [
        "###Necessary Imports"
      ]
    },
    {
      "cell_type": "code",
      "metadata": {
        "id": "TfWKHlRIcCAe"
      },
      "source": [
        "from sklearn.manifold import TSNE"
      ],
      "execution_count": null,
      "outputs": []
    },
    {
      "cell_type": "markdown",
      "metadata": {
        "id": "Lk5jmCFgcCAe"
      },
      "source": [
        "###Checking the dimensions of original data"
      ]
    },
    {
      "cell_type": "code",
      "metadata": {
        "id": "CkHuzjs1cCAe"
      },
      "source": [
        "data_frame_image.shape"
      ],
      "execution_count": null,
      "outputs": []
    },
    {
      "cell_type": "markdown",
      "metadata": {
        "id": "KphJ3HMDcCAe"
      },
      "source": [
        "###Specifying the dimensions to which it needs to be reduced"
      ]
    },
    {
      "cell_type": "code",
      "metadata": {
        "id": "lKQY5lnUcCAe"
      },
      "source": [
        "model=TSNE(n_components=2)"
      ],
      "execution_count": null,
      "outputs": []
    },
    {
      "cell_type": "markdown",
      "metadata": {
        "id": "b4iFjq7IcCAe"
      },
      "source": [
        "###Transform the data to the reduced number of dimensions"
      ]
    },
    {
      "cell_type": "code",
      "metadata": {
        "id": "cx1jSS0UcCAf"
      },
      "source": [
        "tsne_data=model.fit_transform(data_frame_image)"
      ],
      "execution_count": null,
      "outputs": []
    },
    {
      "cell_type": "markdown",
      "metadata": {
        "id": "m15pfr2HcCAf"
      },
      "source": [
        "###Check the new dimensions"
      ]
    },
    {
      "cell_type": "code",
      "metadata": {
        "id": "zfaCr4b3cCAf"
      },
      "source": [
        "tsne_data.shape"
      ],
      "execution_count": null,
      "outputs": []
    },
    {
      "cell_type": "markdown",
      "metadata": {
        "id": "_30szC1acCAf"
      },
      "source": [
        "###The parameter “perplexity,” which says (loosely) how to balance attention between local and global aspects of your data. The parameter is, in a sense, a guess about the number of close neighbors each point has. \n",
        "###Perplexity 100"
      ]
    },
    {
      "cell_type": "code",
      "metadata": {
        "id": "2sN-XJtacCAf"
      },
      "source": [
        "model=TSNE(perplexity=100)\n",
        "tsne_data=model.fit_transform(data_frame_image)"
      ],
      "execution_count": null,
      "outputs": []
    },
    {
      "cell_type": "code",
      "metadata": {
        "id": "UZ0gyEh9cCAf"
      },
      "source": [
        "fig, ax = plt.subplots()\n",
        "scatter = ax.scatter(tsne_data[:,0],tsne_data[:,1], c=data_frame_image['label'])\n",
        "legend1 = ax.legend(*scatter.legend_elements(), loc=\"upper right\", title=\"Digits\")\n",
        "ax.add_artist(legend1)"
      ],
      "execution_count": null,
      "outputs": []
    },
    {
      "cell_type": "markdown",
      "metadata": {
        "id": "hwX9wBZScCAf"
      },
      "source": [
        "###Perplexity 200"
      ]
    },
    {
      "cell_type": "code",
      "metadata": {
        "id": "72MVS4qkcCAg"
      },
      "source": [
        "model=TSNE(perplexity=200)\n",
        "tsne_data=model.fit_transform(data_frame_image)"
      ],
      "execution_count": null,
      "outputs": []
    },
    {
      "cell_type": "code",
      "metadata": {
        "id": "WZx1K0tLcCAg"
      },
      "source": [
        "fig, ax = plt.subplots()\n",
        "scatter = ax.scatter(tsne_data[:,0],tsne_data[:,1], c=data_frame_image['label'])\n",
        "legend1 = ax.legend(*scatter.legend_elements(), loc=\"upper right\", title=\"Digits\")\n",
        "ax.add_artist(legend1)"
      ],
      "execution_count": null,
      "outputs": []
    },
    {
      "cell_type": "markdown",
      "metadata": {
        "id": "ZjizszFecCAg"
      },
      "source": [
        "###Perplexity 10000"
      ]
    },
    {
      "cell_type": "code",
      "metadata": {
        "id": "vvWRyHdocCAg"
      },
      "source": [
        "model=TSNE(perplexity=10000)\n",
        "tsne_data=model.fit_transform(data_frame_image)"
      ],
      "execution_count": null,
      "outputs": []
    },
    {
      "cell_type": "code",
      "metadata": {
        "id": "uryOb7cqcCAg"
      },
      "source": [
        "fig, ax = plt.subplots()\n",
        "scatter = ax.scatter(tsne_data[:,0],tsne_data[:,1], c=data_frame_image['label'])\n",
        "legend1 = ax.legend(*scatter.legend_elements(), loc=\"upper right\", title=\"Digits\")\n",
        "ax.add_artist(legend1)"
      ],
      "execution_count": null,
      "outputs": []
    },
    {
      "cell_type": "markdown",
      "metadata": {
        "id": "K9lHxAIEmOBg"
      },
      "source": [
        "##IMAGE DATASET ISOMAP"
      ]
    },
    {
      "cell_type": "markdown",
      "metadata": {
        "id": "QNvayT_VmOBh"
      },
      "source": [
        "###Necessary Imports"
      ]
    },
    {
      "cell_type": "code",
      "metadata": {
        "id": "yj4RG8lPmOBh"
      },
      "source": [
        "from sklearn.manifold import Isomap"
      ],
      "execution_count": null,
      "outputs": []
    },
    {
      "cell_type": "markdown",
      "metadata": {
        "id": "6pa7FOvzmOBh"
      },
      "source": [
        "###Checking the original shape of data frame"
      ]
    },
    {
      "cell_type": "code",
      "metadata": {
        "id": "B2X1tvPbmOBh"
      },
      "source": [
        "data_frame_image.shape"
      ],
      "execution_count": null,
      "outputs": []
    },
    {
      "cell_type": "markdown",
      "metadata": {
        "id": "HbcoD9XmmOBh"
      },
      "source": [
        "###Applying Isomap transformation to the required number of dimensions"
      ]
    },
    {
      "cell_type": "code",
      "metadata": {
        "id": "t-i_xEQSmOBh"
      },
      "source": [
        "model= Isomap(n_components=2).fit_transform(data_frame_image)"
      ],
      "execution_count": null,
      "outputs": []
    },
    {
      "cell_type": "markdown",
      "metadata": {
        "id": "wtx7RIoHmOBj"
      },
      "source": [
        "###Plotting the graph"
      ]
    },
    {
      "cell_type": "code",
      "metadata": {
        "id": "K3RRAunPmOBj"
      },
      "source": [
        "fig, ax = plt.subplots()\n",
        "scatter = ax.scatter(model[:,0],model[:,1], c=data_frame_image['label'])\n",
        "legend1 = ax.legend(*scatter.legend_elements(),loc=\"upper left\", title=\"Digits\")\n",
        "ax.add_artist(legend1)"
      ],
      "execution_count": null,
      "outputs": []
    },
    {
      "cell_type": "markdown",
      "metadata": {
        "id": "vshCbRTO1ur4"
      },
      "source": [
        "##IMAGE DATASET UMAP"
      ]
    },
    {
      "cell_type": "markdown",
      "metadata": {
        "id": "av6l55dY1ur4"
      },
      "source": [
        "###Installing necessary libraries"
      ]
    },
    {
      "cell_type": "code",
      "metadata": {
        "id": "kghHqi1c1ur4"
      },
      "source": [
        "!pip install umap-learn[plot]"
      ],
      "execution_count": null,
      "outputs": []
    },
    {
      "cell_type": "markdown",
      "metadata": {
        "id": "6qenQWPo1ur-"
      },
      "source": [
        "###Necessary Imports"
      ]
    },
    {
      "cell_type": "code",
      "metadata": {
        "id": "iCey4rqL1ur-"
      },
      "source": [
        "import umap"
      ],
      "execution_count": null,
      "outputs": []
    },
    {
      "cell_type": "markdown",
      "metadata": {
        "id": "uMxQQhjD1ur-"
      },
      "source": [
        "###Checking the dimensions of the original data frame"
      ]
    },
    {
      "cell_type": "code",
      "metadata": {
        "id": "cGDL-CzX1ur-"
      },
      "source": [
        "data_frame_image.shape"
      ],
      "execution_count": null,
      "outputs": []
    },
    {
      "cell_type": "markdown",
      "metadata": {
        "id": "VFDefLAs1ur-"
      },
      "source": [
        "###Using UMAP to reduce the number of dimensions"
      ]
    },
    {
      "cell_type": "code",
      "metadata": {
        "id": "uhIr2m6r1ur-"
      },
      "source": [
        "reducer=umap.UMAP()\n",
        "embedding=reducer.fit_transform(data_frame_image)\n",
        "embedding.shape"
      ],
      "execution_count": null,
      "outputs": []
    },
    {
      "cell_type": "markdown",
      "metadata": {
        "id": "PilmVpqD1ur_"
      },
      "source": [
        "###Plotting the reduced dimensions graph"
      ]
    },
    {
      "cell_type": "code",
      "metadata": {
        "id": "csqhWSx61ur_"
      },
      "source": [
        "plt.scatter(embedding[:,0],embedding[:,1])\n",
        "plt.gca().set_aspect('equal','datalim')\n",
        "plt.title('UMAP PROJECTION OF THE KANNADA DIGITS DATA', fontsize=24)"
      ],
      "execution_count": null,
      "outputs": []
    }
  ]
}